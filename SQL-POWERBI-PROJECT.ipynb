{
 "cells": [
  {
   "cell_type": "code",
   "execution_count": null,
   "id": "76646505",
   "metadata": {},
   "outputs": [],
   "source": [
    "PROJECT- HR EMPLOYEE DISTRIBUTION DATA ANALYSIS BY USING MYSQL WORKBENCH AND DATA VISUALIZATION TOOL POWER BI."
   ]
  },
  {
   "cell_type": "markdown",
   "id": "c54bc433",
   "metadata": {},
   "source": [
    "## DATA CLEANING AND PREPROCESSING"
   ]
  },
  {
   "cell_type": "code",
   "execution_count": null,
   "id": "fbedb0ce",
   "metadata": {},
   "outputs": [],
   "source": [
    "SELECT * FROM hrdb.humanresources;\n",
    "ALTER TABLE humanresources\n",
    "CHANGE COLUMN ï»¿id empId VARCHAR(20)NULL;\n",
    "Describe humanresources;\n",
    "\n",
    "SELECT birthdate from humanresources;\n",
    "\n",
    "Set sql_safe_updates=0;\n",
    "\n",
    "UPDATE humanresources\n",
    "SET birthdate=CASE\n",
    "  WHEN birthdate LIKE'%/%'THEN date_format(STR_TO_DATE(birthdate,'%m/%d/%Y'),'%Y-%m-%d')\n",
    "  WHEN birthdate LIKE'%-%'THEN date_format(STR_TO_DATE(birthdate,'%m-%d-%Y'),'%Y-%m-%d')\n",
    "  Else Null\n",
    "End;\n",
    "\n",
    "ALTER TABLE humanresources\n",
    "MODIFY COLUMN birthdate DATE;\n",
    "\n",
    "UPDATE humanresources\n",
    "SET hire_date=CASE\n",
    "  WHEN hire_date LIKE'%/%'THEN date_format(STR_TO_DATE(hire_date,'%m/%d/%Y'),'%Y-%m-%d')\n",
    "  WHEN hire_date LIKE'%-%'THEN date_format(STR_TO_DATE(hire_date,'%m-%d-%Y'),'%Y-%m-%d')\n",
    "  Else Null\n",
    "End;\n",
    "ALTER TABLE humanresources\n",
    "MODIFY COLUMN hire_date DATE;\n",
    "\n",
    "SELECT hire_date FROM humanresources;\n",
    "\n",
    "UPDATE humanresources\n",
    "SET termdate=date(str_to_date(termdate,'%Y-%m-%d %H:%i:%sUTC'))\n",
    "WHERE termdate IS NOT NULL AND termdate!= '';\n",
    "\n",
    "DELETE FROM humanresources WHERE termdate='0000-00-00';"
   ]
  },
  {
   "cell_type": "code",
   "execution_count": null,
   "id": "c579cbdf",
   "metadata": {},
   "outputs": [],
   "source": [
    "SELECT termdate FROM humanresources;\n",
    "\n",
    "ALTER TABLE humanresources\n",
    "MODIFY COLUMN termdate DATE;\n",
    "\n",
    "ALTER TABLE humanresources ADD COLUMN age INT;\n",
    "\n",
    "UPDATE humanresources\n",
    "SET age=timestampdiff(year,birthdate,curdate());\n",
    "\n",
    "SELECT birthdate,age FROM humanresources;\n",
    "\n",
    "SELECT \n",
    "   min(age) as youngest,\n",
    "   max(age) as oldest\n",
    "FROM humanresources;\n",
    "\n",
    "SELECT COUNT(*)\n",
    "FROM humanresources\n",
    "WHERE age<18;"
   ]
  },
  {
   "cell_type": "markdown",
   "id": "a233717c",
   "metadata": {},
   "source": [
    "### 1 What is the gender breakdown of employees in the company?\n"
   ]
  },
  {
   "cell_type": "code",
   "execution_count": null,
   "id": "9d84a753",
   "metadata": {},
   "outputs": [],
   "source": [
    "SELECT gender,COUNT(*) as count\n",
    "FROM humanresources\n",
    "WHERE age>=18 AND termdate IS NULL\n",
    "GROUP BY gender;"
   ]
  },
  {
   "cell_type": "markdown",
   "id": "5d44cc1a",
   "metadata": {},
   "source": [
    "gender           count\n",
    "\n",
    "Male              8911\n",
    "Female            8090\n",
    "Non-Conforming    481\n"
   ]
  },
  {
   "cell_type": "markdown",
   "id": "4a7da347",
   "metadata": {},
   "source": [
    "## 2. what is the race ethnicity breakdown of the employrees in the company?"
   ]
  },
  {
   "cell_type": "code",
   "execution_count": null,
   "id": "eedef327",
   "metadata": {},
   "outputs": [],
   "source": [
    "SELECT race, COUNT(*) as count\n",
    "FROM humanresources\n",
    "WHERE age>=18 AND termdate IS NULL\n",
    "GROUP BY race\n",
    "ORDER BY COUNT(*) DESC;"
   ]
  },
  {
   "cell_type": "markdown",
   "id": "9961f522",
   "metadata": {},
   "source": [
    "race                                             count\n",
    "\n",
    "White                                            4987\n",
    "Two or More Races                                2867\n",
    "Black or African American                        2840\n",
    "Asian                                            2791\n",
    "Hispanic or Latino                               1994\n",
    "American Indian or Alaska Native                 1051\n",
    "Native Hawaiian or Other Pacific Islander        952\n"
   ]
  },
  {
   "cell_type": "markdown",
   "id": "03e4773c",
   "metadata": {},
   "source": [
    "## 3.What is the age distribution of the employees in the company?"
   ]
  },
  {
   "cell_type": "code",
   "execution_count": null,
   "id": "5c26deb7",
   "metadata": {},
   "outputs": [],
   "source": [
    "SELECT \n",
    " min(age) as youngest,\n",
    " max(age) as oldest\n",
    "FROM humanresources\n",
    "WHERE age>=18 AND termdate IS NULL;\n",
    "\n",
    "\n",
    "SELECT CASE\n",
    " WHEN age>=18 AND age<=24 THEN '18-24'\n",
    " WHEN age>=25 AND age<=34 THEN '25-34'\n",
    " WHEN age>=35 AND age<=44 THEN '35-44'\n",
    " WHEN age>=45 AND age<=54 THEN '45-54'\n",
    " WHEN age>=55 AND age<=64 THEN '55-64'\n",
    " ELSE '65+'\n",
    " END as age_group,\n",
    " COUNT(*) as count\n",
    "FROM humanresources\n",
    "WHERE age>=18 AND termdate IS NULL\n",
    "GROUP BY age_group\n",
    "ORDER BY age_group;"
   ]
  },
  {
   "cell_type": "markdown",
   "id": "04b83406",
   "metadata": {},
   "source": [
    "age_group         count\n",
    "\n",
    "18-24             2040\n",
    "25-34             5004\n",
    "35-44             4966\n",
    "45-54             4659\n",
    "55-64             813\n"
   ]
  },
  {
   "cell_type": "code",
   "execution_count": null,
   "id": "720f6ca9",
   "metadata": {},
   "outputs": [],
   "source": [
    "SELECT CASE\n",
    " WHEN age>=18 AND age<=24 THEN '18-24'\n",
    " WHEN age>=25 AND age<=34 THEN '25-34'\n",
    " WHEN age>=35 AND age<=44 THEN '35-44'\n",
    " WHEN age>=45 AND age<=54 THEN '45-54'\n",
    " WHEN age>=55 AND age<=64 THEN '55-64'\n",
    " ELSE '65+'\n",
    " END as age_group,gender,\n",
    " COUNT(*) as count\n",
    "FROM humanresources\n",
    "WHERE age>=18 AND termdate IS NULL\n",
    "GROUP BY age_group,gender\n",
    "ORDER BY age_group,gender;"
   ]
  },
  {
   "cell_type": "markdown",
   "id": "56d291c2",
   "metadata": {},
   "source": [
    "age_group             gender                 count\n",
    "\n",
    "18-24                 Female                  929\n",
    "18-24                 Male                    1061\n",
    "18-24                 Non-Conforming          50\n",
    "25-34                 Female                  2370\n",
    "25-34                 Male                    2498\n",
    "25-34                 Non-Conforming          136\n",
    "35-44                 Female                  2214\n",
    "35-44                 Male                    2614\n",
    "35-44                 Non-Conforming          138\n",
    "45-54                 Female                  2180\n",
    "45-54                 Male                    2343\n",
    "45-54                 Non-Conforming          136\n",
    "55-64                 Female                  397\n",
    "55-64                 Male                    395\n",
    "55-64                 Non-Conforming          21\n"
   ]
  },
  {
   "cell_type": "markdown",
   "id": "d504d5a7",
   "metadata": {},
   "source": [
    "## 4 How many employees work at headquaters versus remote location?\n"
   ]
  },
  {
   "cell_type": "code",
   "execution_count": null,
   "id": "da5d12af",
   "metadata": {},
   "outputs": [],
   "source": [
    "SELECT location,count(*) as count\n",
    "FROM humanresources\n",
    "WHERE age>=18 AND termdate IS NULL\n",
    "GROUP BY location;"
   ]
  },
  {
   "cell_type": "markdown",
   "id": "369cd10c",
   "metadata": {},
   "source": [
    "location             count\n",
    "\n",
    "Headquarters         13107\n",
    "Remote               4375\n"
   ]
  },
  {
   "cell_type": "markdown",
   "id": "d8cf56d5",
   "metadata": {},
   "source": [
    "## 5 What is the average length of employment for employees who have been terminated?"
   ]
  },
  {
   "cell_type": "code",
   "execution_count": null,
   "id": "f8f72f1d",
   "metadata": {},
   "outputs": [],
   "source": [
    "SELECT round(avg(datediff(termdate,hire_date))/365,0) as avg_length_employment\n",
    "FROM humanresources\n",
    "WHERE termdate<=curdate() AND termdate <> '0000-00-00' AND age>18;"
   ]
  },
  {
   "cell_type": "markdown",
   "id": "2584156d",
   "metadata": {},
   "source": [
    "avg_length_employment\n",
    "\n",
    "8\n"
   ]
  },
  {
   "cell_type": "markdown",
   "id": "fae19f32",
   "metadata": {},
   "source": [
    "## 6 How does the gender distribution varies accross the department and job titles?"
   ]
  },
  {
   "cell_type": "code",
   "execution_count": null,
   "id": "645ef8cb",
   "metadata": {},
   "outputs": [],
   "source": [
    "SELECT department,gender, COUNT(*) as count\n",
    "FROM humanresources\n",
    "WHERE termdate IS NULL AND age>18\n",
    "GROUP BY department,gender\n",
    "ORDER BY department;"
   ]
  },
  {
   "cell_type": "markdown",
   "id": "3f112c1d",
   "metadata": {},
   "source": [
    "department                                    gender                                         count\n",
    "\n",
    "Accounting                                    Female                                         1175\n",
    "Accounting                                    Male                                           1375\n",
    "Accounting                                    Non-Conforming                                 76\n",
    "Auditing                                      Female                                         19\n",
    "Auditing                                      Male                                           19\n",
    "Business Development                          Female                                         593\n",
    "Business Development                          Male                                           672\n",
    "Business Development                          Non-Conforming                                 42\n",
    "Engineering                                   Female                                         2442\n",
    "Engineering                                   Male                                           2671\n",
    "Engineering                                   Non-Conforming                                 146\n",
    "Human Resources                               Female                                         672\n",
    "Human Resources                               Male                                           721\n",
    "Human Resources                               Non-Conforming                                 37\n",
    "Legal                                         Female                                         107\n",
    "Legal                                         Male                                           125\n",
    "Legal                                         Non-Conforming                                 5\n",
    "Marketing                                     Female                                         206\n",
    "Marketing                                     Male                                           199\n",
    "Marketing                                     Non-Conforming                                 5\n",
    "Product Management                            Female                                         227\n",
    "Product Management                            Male                                           272\n",
    "Product Management                            Non-Conforming                                 13\n",
    "Research and Development                      Female                                         404\n",
    "Research and Development                      Male                                           401\n",
    "Research and Development                      Non-Conforming                                 25\n",
    "Sales                                         Female                                         648\n",
    "Sales                                         Male                                           739\n",
    "Sales                                         Non-Conforming                                 39\n",
    "Services                                      Female                                         647\n",
    "Services                                      Male                                           661\n",
    "Services                                      Non-Conforming                                 29\n",
    "Support                                       Female                                         337\n",
    "Support                                       Male                                           368\n",
    "Support                                       Non-Conforming                                 27\n",
    "Training                                      Female                                         613\n",
    "Training                                      Male                                           688\n",
    "Training                                      Non-Conforming                                 37\n"
   ]
  },
  {
   "cell_type": "markdown",
   "id": "dfcc65e0",
   "metadata": {},
   "source": [
    "## 7 What is the distribution of job titles accross the company?"
   ]
  },
  {
   "cell_type": "code",
   "execution_count": null,
   "id": "f5bd5609",
   "metadata": {},
   "outputs": [],
   "source": [
    "SELECT jobtitle,gender,count(*) as count\n",
    "FROM humanresources\n",
    "WHERE termdate IS NULL AND age>=18\n",
    "GROUP BY jobtitle,gender \n",
    "ORDER BY jobtitle;"
   ]
  },
  {
   "cell_type": "markdown",
   "id": "bd33960a",
   "metadata": {},
   "source": [
    "## 8 Which department has the highest turnover rate?\n"
   ]
  },
  {
   "cell_type": "code",
   "execution_count": null,
   "id": "32c5b124",
   "metadata": {},
   "outputs": [],
   "source": [
    "SELECT department,terminated_count,total_count,terminated_count/total_count as termination_rate\n",
    "FROM\n",
    " (SELECT department,count(*) as total_count,\n",
    "   sum(CASE WHEN termdate<>'0000-00-00' AND termdate<curdate() THEN 1 ELSE 0 END) as terminated_count\n",
    "  FROM humanresources\n",
    "  WHERE age>=18\n",
    "  GROUP BY department\n",
    "  ) as subquery\n",
    "ORDER BY termination_rate DESC;"
   ]
  },
  {
   "cell_type": "markdown",
   "id": "1f0945af",
   "metadata": {},
   "source": [
    "department              terminated_count            total_count                termination_rate\n",
    "\n",
    "Auditing                       8                        50                             0.16\n",
    "Legal                          39                       299                            0.1304\n",
    "Training                       188                      1622                           0.1159\n",
    "Research and Development       114                      1032                           0.1105\n",
    "Human Resources                190                      1727                           0.11\n",
    "Accounting                     347                      3192                           0.1087\n",
    "Sales                          188                      1745                           0.1077\n",
    "Engineering                    684                      6387                           0.1071\n",
    "Product Management             66                       623                            0.1059\n",
    "Services                       171                      1618                           0.1057\n",
    "Support                        92                       90                             0.1019\n",
    "Business Development           146                      1569                           0.0931\n",
    "Marketing                      43                       480                            0.0896\n"
   ]
  },
  {
   "cell_type": "markdown",
   "id": "1233614f",
   "metadata": {},
   "source": [
    "## 9 What is distribution of employee accross location by state?\n"
   ]
  },
  {
   "cell_type": "code",
   "execution_count": null,
   "id": "e84a3c7c",
   "metadata": {},
   "outputs": [],
   "source": [
    "SELECT location_state, count(*) as count\n",
    "FROM humanresources\n",
    "WHERE age>=18 AND termdate IS NULL\n",
    "GROUP BY location_state\n",
    "ORDER BY count DESC;"
   ]
  },
  {
   "cell_type": "markdown",
   "id": "21ab25ca",
   "metadata": {},
   "source": [
    "location_state                  count\n",
    "\n",
    "Ohio                              14144\n",
    "Pennsylvania                      892\n",
    "Illinois                          698\n",
    "Michigan                          550\n",
    "Indiana                           545\n",
    "Kentucky                          347\n",
    "Wisconsin                         306\n"
   ]
  },
  {
   "cell_type": "markdown",
   "id": "cbe9fc98",
   "metadata": {},
   "source": [
    "## 10 How has the company's employee count changed over time based on hire and term dates?\n"
   ]
  },
  {
   "cell_type": "code",
   "execution_count": null,
   "id": "f6e753a5",
   "metadata": {},
   "outputs": [],
   "source": [
    "SELECT\n",
    " year,hires,termination,hires-termination as net_change,\n",
    " round((hires-termination)/hires*100,2) as net_change_percent\n",
    "FROM\n",
    "   ( \n",
    "   SELECT YEAR(hire_date)as year,\n",
    "\t\t  count(*) as hires,SUM(CASE WHEN termdate<>'0000-00-00' AND termdate<= curdate() THEN 1 ELSE 0 END) as termination\n",
    "   FROM humanresources\n",
    "   WHERE age>=18\n",
    "   GROUP BY YEAR(hire_date)\n",
    "   ) as subquery\n",
    "ORDER BY year ASC;"
   ]
  },
  {
   "cell_type": "markdown",
   "id": "9fb2a37a",
   "metadata": {},
   "source": [
    "year           hires                termination             net_change              net_change_percent\n",
    "\n",
    "2000            211                    26                     185                         87.68\n",
    "2001            1082                   197                    885                         81.79\n",
    "2002            1012                   161                    851                         84.09\n",
    "2003            1088                   187                    901                         82.81\n",
    "2004            1087                   190                    897                         82.52\n",
    "2005            1038                   166                    872                         84.01\n",
    "2006            1069                   168                    901                         84.28\n",
    "2007            1058                   137                    921                         87.05\n",
    "2008            1061                   135                    926                         87.28\n",
    "2009            1094                   139                    955                         87.29\n",
    "2010            1050                   117                    933                         88.86\n",
    "2011            1057                   107                    950                         89.88\n",
    "2012            1059                   101                    958                         90.46\n",
    "2013            1042                   87                     955                         91.65\n",
    "2014            1014                   81                     933                         92.01\n",
    "2015            1011                   68                     943                         93.27\n",
    "2016            1076                   61                     1015                        94.33\n",
    "2017            1043                   47                     996                         95.49\n",
    "2018            1090                   41                     1049                        96.24\n",
    "2019            1038                   41                     997                         96.05\n",
    "2020            96                     19                     948                         98.04\n"
   ]
  },
  {
   "cell_type": "markdown",
   "id": "3f1cc5ba",
   "metadata": {},
   "source": [
    "## 11 What is the tenure distribution for each department?\n"
   ]
  },
  {
   "cell_type": "code",
   "execution_count": null,
   "id": "8c5d6fe4",
   "metadata": {},
   "outputs": [],
   "source": [
    "SELECT department, round(avg(datediff(termdate,hire_date)/365),0)as avg_tenure\n",
    "FROM humanresources\n",
    "WHERE age>=18 AND termdate< curdate() AND termdate<>'0000-00-00'\n",
    "GROUP BY department"
   ]
  },
  {
   "cell_type": "markdown",
   "id": "635b80ca",
   "metadata": {},
   "source": [
    "department                                  avg_tenure\n",
    "\n",
    "Engineering                                     8\n",
    "Services                                        8\n",
    "Human Resources                                 7\n",
    "Business Development                            7\n",
    "Sales                                           8\n",
    "Auditing                                        8\n",
    "Training                                        7\n",
    "Accounting                                      8\n",
    "Research and Development                        8\n",
    "Product Management                              6\n",
    "Support                                         7\n",
    "Legal                                           7\n",
    "Marketing                                       8\n"
   ]
  },
  {
   "cell_type": "code",
   "execution_count": null,
   "id": "4bb5b3e3",
   "metadata": {},
   "outputs": [],
   "source": []
  }
 ],
 "metadata": {
  "kernelspec": {
   "display_name": "Python 3 (ipykernel)",
   "language": "python",
   "name": "python3"
  },
  "language_info": {
   "codemirror_mode": {
    "name": "ipython",
    "version": 3
   },
   "file_extension": ".py",
   "mimetype": "text/x-python",
   "name": "python",
   "nbconvert_exporter": "python",
   "pygments_lexer": "ipython3",
   "version": "3.9.13"
  }
 },
 "nbformat": 4,
 "nbformat_minor": 5
}
